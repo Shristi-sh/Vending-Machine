{
  "nbformat": 4,
  "nbformat_minor": 0,
  "metadata": {
    "colab": {
      "provenance": [],
      "authorship_tag": "ABX9TyOHe2ZSos5TBOQLumc8s+a4",
      "include_colab_link": true
    },
    "kernelspec": {
      "name": "python3",
      "display_name": "Python 3"
    },
    "language_info": {
      "name": "python"
    }
  },
  "cells": [
    {
      "cell_type": "markdown",
      "metadata": {
        "id": "view-in-github",
        "colab_type": "text"
      },
      "source": [
        "<a href=\"https://colab.research.google.com/github/Shristi-sh/Vending-Machine/blob/main/Vending.ipynb\" target=\"_parent\"><img src=\"https://colab.research.google.com/assets/colab-badge.svg\" alt=\"Open In Colab\"/></a>"
      ]
    },
    {
      "cell_type": "code",
      "execution_count": null,
      "metadata": {
        "id": "zPPm9hyyuQKF"
      },
      "outputs": [],
      "source": [
        "\n",
        "#include<iostream>\n",
        "#include<string>\n",
        "// #include \"model.h\"\n",
        "// #include \"buyer.h\"\n",
        "#include \"owner.h\"\n",
        "using namespace std;\n",
        "\n",
        "int main() {\n",
        "    cout<<\"Choose : \\n(1) Buyer \\n(2) Owner\\n\";\n",
        "    getproducts();\n",
        "    int choice;\n",
        "    cin>>choice;\n",
        "    if (choice == 1) {\n",
        "        buyer();\n",
        "    }\n",
        "    if (choice == 2) {\n",
        "        owner();\n",
        "    }\n",
        "    return 0;\n",
        "}\n"
      ]
    }
  ]
}