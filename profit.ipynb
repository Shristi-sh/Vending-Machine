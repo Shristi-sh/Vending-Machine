{
  "nbformat": 4,
  "nbformat_minor": 0,
  "metadata": {
    "colab": {
      "provenance": [],
      "authorship_tag": "ABX9TyPKa08NHaYiH+JmLa42Z0fA",
      "include_colab_link": true
    },
    "kernelspec": {
      "name": "python3",
      "display_name": "Python 3"
    },
    "language_info": {
      "name": "python"
    }
  },
  "cells": [
    {
      "cell_type": "markdown",
      "metadata": {
        "id": "view-in-github",
        "colab_type": "text"
      },
      "source": [
        "<a href=\"https://colab.research.google.com/github/Shristi-sh/Vending-Machine/blob/main/profit.ipynb\" target=\"_parent\"><img src=\"https://colab.research.google.com/assets/colab-badge.svg\" alt=\"Open In Colab\"/></a>"
      ]
    },
    {
      "cell_type": "code",
      "execution_count": null,
      "metadata": {
        "id": "PQFNbYO6t_l2"
      },
      "outputs": [],
      "source": [
        " Apple-Cider-Vinegar x1     Rs. 100\n",
        " KitKat x1     Rs. 30\n",
        " Total Price = Rs. 130\n",
        " Rice-Cracker x1     Rs. 10\n",
        " Total Price = Rs. 10\n",
        "\n",
        " Kurkure x1     Rs. 20\n",
        " Lays x1     Rs. 20\n",
        " Total Price = Rs. 40"
      ]
    }
  ]
}